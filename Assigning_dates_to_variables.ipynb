{
  "nbformat": 4,
  "nbformat_minor": 0,
  "metadata": {
    "colab": {
      "provenance": [],
      "authorship_tag": "ABX9TyODlhHhLfsVsNVd+lxplciC",
      "include_colab_link": true
    },
    "kernelspec": {
      "name": "python3",
      "display_name": "Python 3"
    },
    "language_info": {
      "name": "python"
    }
  },
  "cells": [
    {
      "cell_type": "markdown",
      "metadata": {
        "id": "view-in-github",
        "colab_type": "text"
      },
      "source": [
        "<a href=\"https://colab.research.google.com/github/ScottSeams/PythonProjects/blob/main/Assigning_dates_to_variables.ipynb\" target=\"_parent\"><img src=\"https://colab.research.google.com/assets/colab-badge.svg\" alt=\"Open In Colab\"/></a>"
      ]
    },
    {
      "cell_type": "code",
      "execution_count": 16,
      "metadata": {
        "colab": {
          "base_uri": "https://localhost:8080/"
        },
        "id": "6GIenxO0EFYD",
        "outputId": "cbc5549d-6227-401f-fc2c-e75a436abb16"
      },
      "outputs": [
        {
          "output_type": "stream",
          "name": "stdout",
          "text": [
            "enter a date: 07/11/2003\n",
            "The month is 07, the day is 11, and the year is 2003\n"
          ]
        }
      ],
      "source": [
        "date = input(\"enter a date: \")\n",
        "print(f'The month is {date[0:2]}, the day is {date[3:5]}, and the year is {date[6:10]}')\n"
      ]
    }
  ]
}