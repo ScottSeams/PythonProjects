{
  "nbformat": 4,
  "nbformat_minor": 0,
  "metadata": {
    "colab": {
      "provenance": [],
      "authorship_tag": "ABX9TyPsdPCWWbxogfwx9zf1moSw",
      "include_colab_link": true
    },
    "kernelspec": {
      "name": "python3",
      "display_name": "Python 3"
    },
    "language_info": {
      "name": "python"
    }
  },
  "cells": [
    {
      "cell_type": "markdown",
      "metadata": {
        "id": "view-in-github",
        "colab_type": "text"
      },
      "source": [
        "<a href=\"https://colab.research.google.com/github/ScottSeams/PythonProjects/blob/main/Calculator.ipynb\" target=\"_parent\"><img src=\"https://colab.research.google.com/assets/colab-badge.svg\" alt=\"Open In Colab\"/></a>"
      ]
    },
    {
      "cell_type": "markdown",
      "source": [
        "for (var) in (sequence)     *continue* brings you here\n",
        "  *statements*\n",
        "    if *condition*\n",
        "      break OR continue\n",
        "\n",
        "*break* brings you here"
      ],
      "metadata": {
        "id": "i9M6Zdmd5NFx"
      }
    },
    {
      "cell_type": "code",
      "source": [
        "while True:\n",
        "  Number1 = float(input(\"First Number \"))\n",
        "  Operator = input(\"Operator \")\n",
        "  Number2 = float(input(\"Second Number \"))\n",
        "  if Operator == \"break\":\n",
        "    print(\"goodbye\")\n",
        "    break\n",
        "  elif Operator == \"+\":\n",
        "    print(Number1+Number2)\n",
        "  elif Operator == \"-\":\n",
        "    print(Number1-Number2)\n",
        "  elif Operator == \"*\":\n",
        "    print(Number1*Number2)\n",
        "  elif Operator == \"/\":\n",
        "    print(Number1/Number2)\n",
        "  elif Operator == \"//\":\n",
        "    print(Number1//Number2)\n",
        "  elif Operator == \"**\":\n",
        "    print(Number1**Number2)\n",
        "  elif Operator == \"%\":\n",
        "    print(Number1%Number2)\n",
        "  else:\n",
        "    print(f\"Invalid Operator: \\'{Operator}\\'\")"
      ],
      "metadata": {
        "colab": {
          "base_uri": "https://localhost:8080/"
        },
        "id": "ltK52KJw51LE",
        "outputId": "1212d2c9-bd44-4915-c707-da898dfdd0f2"
      },
      "execution_count": 16,
      "outputs": [
        {
          "output_type": "stream",
          "name": "stdout",
          "text": [
            "First Number 12\n",
            "Operator break\n",
            "Second Number 2\n",
            "goodbye\n"
          ]
        }
      ]
    },
    {
      "cell_type": "code",
      "source": [],
      "metadata": {
        "id": "jBTSMm8-ACYv"
      },
      "execution_count": null,
      "outputs": []
    }
  ]
}