{
  "nbformat": 4,
  "nbformat_minor": 0,
  "metadata": {
    "colab": {
      "provenance": [],
      "authorship_tag": "ABX9TyPFaJyHMiEEMZ2TKvHM3tBt",
      "include_colab_link": true
    },
    "kernelspec": {
      "name": "python3",
      "display_name": "Python 3"
    },
    "language_info": {
      "name": "python"
    }
  },
  "cells": [
    {
      "cell_type": "markdown",
      "metadata": {
        "id": "view-in-github",
        "colab_type": "text"
      },
      "source": [
        "<a href=\"https://colab.research.google.com/github/ScottSeams/PythonProjects/blob/main/List_Assignment_1.ipynb\" target=\"_parent\"><img src=\"https://colab.research.google.com/assets/colab-badge.svg\" alt=\"Open In Colab\"/></a>"
      ]
    },
    {
      "cell_type": "code",
      "execution_count": 16,
      "metadata": {
        "colab": {
          "base_uri": "https://localhost:8080/"
        },
        "id": "ne6OUKcNUp-I",
        "outputId": "667a268d-e17e-4904-82a7-3e1547f53e95"
      },
      "outputs": [
        {
          "output_type": "stream",
          "name": "stdout",
          "text": [
            "enter a number 43\n",
            "enter a number 23\n",
            "enter a number 86\n",
            "enter a number 32\n",
            "enter a number 8\n",
            "enter a number 0\n",
            "[43, 23, 86, 32, 8]\n",
            "Heres it sorted...\n",
            "[8, 23, 32, 43, 86]\n"
          ]
        }
      ],
      "source": [
        "L = []\n",
        "\n",
        "number = int(input('enter a number '))\n",
        "while number != 0:\n",
        "  L.append(number)\n",
        "  number = int(input('enter a number '))\n",
        "print(L)\n",
        "print('Heres it sorted...')\n",
        "L.sort()\n",
        "print(L)"
      ]
    }
  ]
}