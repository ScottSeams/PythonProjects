{
  "nbformat": 4,
  "nbformat_minor": 0,
  "metadata": {
    "colab": {
      "provenance": [],
      "authorship_tag": "ABX9TyPWfD/8sf7/NVv4vPl7/WVv",
      "include_colab_link": true
    },
    "kernelspec": {
      "name": "python3",
      "display_name": "Python 3"
    },
    "language_info": {
      "name": "python"
    }
  },
  "cells": [
    {
      "cell_type": "markdown",
      "metadata": {
        "id": "view-in-github",
        "colab_type": "text"
      },
      "source": [
        "<a href=\"https://colab.research.google.com/github/ScottSeams/PythonProjects/blob/main/Dictionaries.ipynb\" target=\"_parent\"><img src=\"https://colab.research.google.com/assets/colab-badge.svg\" alt=\"Open In Colab\"/></a>"
      ]
    },
    {
      "cell_type": "code",
      "execution_count": 10,
      "metadata": {
        "colab": {
          "base_uri": "https://localhost:8080/"
        },
        "id": "KkAFKJ2M-4QR",
        "outputId": "d5b9a9b2-a2cc-455a-dc96-3d133b40a219"
      },
      "outputs": [
        {
          "output_type": "execute_result",
          "data": {
            "text/plain": [
              "88"
            ]
          },
          "metadata": {},
          "execution_count": 10
        }
      ],
      "source": [
        "# Dictionaries use '{}' and is in the following format: d = {K1: V1,}, where K is the \"key\" and V is the \"Value\" assigned to the key.\n",
        "# To find (index) a dictionary, we'll do d[Ki] --> Example\n",
        "grades = {\n",
        "    'Alice': 91,\n",
        "    'Bob': 88,\n",
        "    'Tracy': 93,\n",
        "    'Erik': 90\n",
        "}\n",
        "grades['Bob']"
      ]
    },
    {
      "cell_type": "code",
      "source": [
        "# To add to the dictionary, function d[Kn] = Vn --> Example\n",
        "grades['Scott'] = 98\n",
        "\n",
        "grades"
      ],
      "metadata": {
        "colab": {
          "base_uri": "https://localhost:8080/"
        },
        "id": "SbC5hjLlAJph",
        "outputId": "ec5f8734-010d-4b89-b9ad-077f8160f16d"
      },
      "execution_count": 11,
      "outputs": [
        {
          "output_type": "execute_result",
          "data": {
            "text/plain": [
              "{'Alice': 91, 'Bob': 88, 'Tracy': 93, 'Erik': 90, 'Scott': 98}"
            ]
          },
          "metadata": {},
          "execution_count": 11
        }
      ]
    },
    {
      "cell_type": "code",
      "source": [
        "# We can replace values assigned to a key as well --> Example\n",
        "grades['Scott'] = 96\n",
        "\n",
        "grades\n",
        "\n",
        "# NOTE: In a dictionary, keys are ALWAYS UNIQUE and IMMUTABLE"
      ],
      "metadata": {
        "colab": {
          "base_uri": "https://localhost:8080/"
        },
        "id": "NvsL1Xx0A1Z4",
        "outputId": "1bb96763-87bf-4a27-9704-353c9067cc94"
      },
      "execution_count": 16,
      "outputs": [
        {
          "output_type": "execute_result",
          "data": {
            "text/plain": [
              "{'Alice': 91, 'Bob': 88, 'Tracy': 93, 'Erik': 90, 'Scott': 96}"
            ]
          },
          "metadata": {},
          "execution_count": 16
        }
      ]
    },
    {
      "cell_type": "code",
      "source": [
        "# If we want to delete from the dictionary, use function del --> Example\n",
        "del grades['Scott']\n",
        "\n",
        "grades"
      ],
      "metadata": {
        "colab": {
          "base_uri": "https://localhost:8080/"
        },
        "id": "ehx0my4aBUuY",
        "outputId": "e315d0ce-2faa-4c28-991f-7bccca7135f5"
      },
      "execution_count": 17,
      "outputs": [
        {
          "output_type": "execute_result",
          "data": {
            "text/plain": [
              "{'Alice': 91, 'Bob': 88, 'Tracy': 93, 'Erik': 90}"
            ]
          },
          "metadata": {},
          "execution_count": 17
        }
      ]
    },
    {
      "cell_type": "code",
      "source": [
        "# Dictionaries have their own methods. Normally, we use the format object.method (L.append)\n",
        "# d.keys() lists all the keys in the dictionary\n",
        "# d.values() lists all the values in the dictionary\n",
        "# d.items() lists everything --> NOT ON MIDTERM\n",
        "\n",
        "grades.items()"
      ],
      "metadata": {
        "id": "btUSRTrFCaxF"
      },
      "execution_count": null,
      "outputs": []
    },
    {
      "cell_type": "code",
      "source": [
        "for key in grades.keys():\n",
        "  print(key)\n",
        "\n",
        "for values in grades.values():\n",
        "  print(values)"
      ],
      "metadata": {
        "id": "gUWPPproDajF"
      },
      "execution_count": null,
      "outputs": []
    }
  ]
}