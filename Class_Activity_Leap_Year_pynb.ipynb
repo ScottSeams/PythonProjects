{
  "nbformat": 4,
  "nbformat_minor": 0,
  "metadata": {
    "colab": {
      "provenance": [],
      "include_colab_link": true
    },
    "kernelspec": {
      "name": "python3",
      "display_name": "Python 3"
    },
    "language_info": {
      "name": "python"
    }
  },
  "cells": [
    {
      "cell_type": "markdown",
      "metadata": {
        "id": "view-in-github",
        "colab_type": "text"
      },
      "source": [
        "<a href=\"https://colab.research.google.com/github/ScottSeams/PythonProjects/blob/main/Class_Activity_Leap_Year_pynb.ipynb\" target=\"_parent\"><img src=\"https://colab.research.google.com/assets/colab-badge.svg\" alt=\"Open In Colab\"/></a>"
      ]
    },
    {
      "cell_type": "code",
      "execution_count": null,
      "metadata": {
        "colab": {
          "base_uri": "https://localhost:8080/"
        },
        "id": "L7LrmrnSDHIu",
        "outputId": "d5dcb0e2-ce3d-4450-d8b5-df0effd5a0bc"
      },
      "outputs": [
        {
          "output_type": "stream",
          "name": "stdout",
          "text": [
            "Choose rock, paper, or scissors: rock\n",
            "you chose: rock\n",
            "pc chose: scissors\n",
            "You win\n"
          ]
        }
      ],
      "source": [
        "import random\n",
        "userinput = input (\"Choose rock, paper, or scissors: \")\n",
        "print(f'you chose: {userinput}')\n",
        "pc_choice = random.choice(['rock','paper','scissors'])\n",
        "print(f'pc chose: {pc_choice}')\n",
        "if userinput==pc_choice:\n",
        "  print('tie')\n",
        "elif (userinput == \"rock\" and pc_choice == \"scissors\") or (userinput == \"scissors\" and pc_choice == \"paper\") or (userinput == \"paper\" and pc_choice == \"rock\"):\n",
        "  print('You win')\n",
        "else:\n",
        "  print('PC wins')\n",
        "\n"
      ]
    },
    {
      "cell_type": "code",
      "source": [],
      "metadata": {
        "id": "o46Q-Av6NbNy"
      },
      "execution_count": null,
      "outputs": []
    },
    {
      "cell_type": "code",
      "source": [
        "x = int(input(\"year of your choice: \"))\n",
        "if x%4 == 0 and x%100!=0 or x%400 == 0:\n",
        "  print(\"It is a leap year\")\n",
        "else:\n",
        "  print(\"It is not a leap year\")"
      ],
      "metadata": {
        "colab": {
          "base_uri": "https://localhost:8080/"
        },
        "id": "gvCLwgVeL6WB",
        "outputId": "78110c28-66f1-4f52-d5e6-4bdddc6e9df4"
      },
      "execution_count": null,
      "outputs": [
        {
          "output_type": "stream",
          "name": "stdout",
          "text": [
            "year of your choice: 3026\n",
            "It is not a leap year\n"
          ]
        }
      ]
    },
    {
      "cell_type": "code",
      "source": [],
      "metadata": {
        "id": "xClpoQuZwyLX"
      },
      "execution_count": null,
      "outputs": []
    }
  ]
}