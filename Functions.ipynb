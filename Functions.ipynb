{
  "nbformat": 4,
  "nbformat_minor": 0,
  "metadata": {
    "colab": {
      "provenance": [],
      "authorship_tag": "ABX9TyPpRIUsNJJ/qxs3irBEZJwc",
      "include_colab_link": true
    },
    "kernelspec": {
      "name": "python3",
      "display_name": "Python 3"
    },
    "language_info": {
      "name": "python"
    }
  },
  "cells": [
    {
      "cell_type": "markdown",
      "metadata": {
        "id": "view-in-github",
        "colab_type": "text"
      },
      "source": [
        "<a href=\"https://colab.research.google.com/github/ScottSeams/PythonProjects/blob/main/Functions.ipynb\" target=\"_parent\"><img src=\"https://colab.research.google.com/assets/colab-badge.svg\" alt=\"Open In Colab\"/></a>"
      ]
    },
    {
      "cell_type": "code",
      "execution_count": null,
      "metadata": {
        "id": "WLUauxbG4Nar"
      },
      "outputs": [],
      "source": [
        "# In order to define a function, we use keyword 'def' followed by the name of the function -> Format: 'def function(input)' -> Ex: def fill(1)\n",
        "# The input/parameter for defenitions need to be the same type as what is being used later ('fill(I)', I is a string, aList is also a string so its ok)\n",
        "# You HAVE to define the function before you use it"
      ]
    },
    {
      "cell_type": "code",
      "source": [
        "def fill(I):\n",
        "  for i in range(10):\n",
        "    I.append(i)\n",
        "    if i%2 == 0:\n",
        "      I.pop()\n",
        "  print(I)\n",
        "\n",
        "aList = []\n",
        "fill(aList)"
      ],
      "metadata": {
        "colab": {
          "base_uri": "https://localhost:8080/"
        },
        "id": "SDiXqcB46jD7",
        "outputId": "11d59aac-959b-40e9-a14f-bcf06edceec2"
      },
      "execution_count": null,
      "outputs": [
        {
          "output_type": "stream",
          "name": "stdout",
          "text": [
            "[1, 3, 5, 7, 9]\n"
          ]
        }
      ]
    },
    {
      "cell_type": "code",
      "source": [
        "def greeting(I):\n",
        "  print(f'Hello {I}!')\n",
        "\n",
        "name = input('Whats your name? ')\n",
        "greeting(name)"
      ],
      "metadata": {
        "colab": {
          "base_uri": "https://localhost:8080/"
        },
        "id": "nEHbdSal8BfN",
        "outputId": "6e394ba9-6731-4667-9476-ebfda2f695d0"
      },
      "execution_count": null,
      "outputs": [
        {
          "output_type": "stream",
          "name": "stdout",
          "text": [
            "Whats your name? Scott\n",
            "Hello Scott!\n"
          ]
        }
      ]
    },
    {
      "cell_type": "code",
      "source": [
        "# We can 'return' an equation based on the functions input. We see this in the example below, and notice that the order of the input is the order of the function respectively.\n",
        "def add_num(a,b):\n",
        "  return a + b\n",
        "\n",
        "c = add_num(5,6)\n",
        "print(c)\n",
        "\n",
        "# We can set numbers to these variables in the definition as well. This can be overrided later on. Example:\n",
        "def add_quant(a=5,b=2):\n",
        "  return a + b\n",
        "c = add_quant()\n",
        "print(c)\n",
        "\n",
        "c = add_quant(2,10)\n",
        "print(c)"
      ],
      "metadata": {
        "colab": {
          "base_uri": "https://localhost:8080/"
        },
        "id": "IIp0qAWBMFTi",
        "outputId": "a11f5ad9-9b11-410e-ddf9-d4f42ba3554d"
      },
      "execution_count": null,
      "outputs": [
        {
          "output_type": "stream",
          "name": "stdout",
          "text": [
            "11\n",
            "7\n",
            "12\n"
          ]
        }
      ]
    },
    {
      "cell_type": "code",
      "source": [
        "# If we define a variable to something that doesn't have variable return, we'll get 'none' returned below our output. For example:\n",
        "\n",
        "def example():\n",
        "  print('this is an example')\n",
        "\n",
        "name = example()\n",
        "print(name)\n",
        "\n",
        "# If we see 'none', this helps us debug the code, since it doesn't technically have a return statement"
      ],
      "metadata": {
        "colab": {
          "base_uri": "https://localhost:8080/"
        },
        "id": "yUi80tqA7x5w",
        "outputId": "c49c3f18-17cb-42fa-cc8b-7b95c3432ce1"
      },
      "execution_count": null,
      "outputs": [
        {
          "output_type": "stream",
          "name": "stdout",
          "text": [
            "this is an example\n",
            "None\n"
          ]
        }
      ]
    },
    {
      "cell_type": "code",
      "source": [
        "# EXAMPLE: Define a function that counts down from a given number\n",
        "\n",
        "def countdown(n):\n",
        "  for i in range (n,-1,-1):\n",
        "    print(i)\n",
        "\n",
        "countdown(5)"
      ],
      "metadata": {
        "colab": {
          "base_uri": "https://localhost:8080/"
        },
        "id": "Vve3LaHO-Atq",
        "outputId": "3da48464-3da9-4740-f118-a719aaabff76"
      },
      "execution_count": 1,
      "outputs": [
        {
          "output_type": "stream",
          "name": "stdout",
          "text": [
            "5\n",
            "4\n",
            "3\n",
            "2\n",
            "1\n",
            "0\n"
          ]
        }
      ]
    },
    {
      "cell_type": "code",
      "source": [
        "# Recursive Function: Uses an 'if' and 'else' function to create a loop. It uses an Inductive case and a Base case...\n",
        "# Base Case: One where there is only one output (in this case, the 'if' statement)\n",
        "# Inductive Case: One where there is a function to produce multiple outputs (in this case, the 'else' statement)\n",
        "\n",
        "def recursive_countdown(n):\n",
        "  if n == 0:\n",
        "    print(0)\n",
        "  else:\n",
        "    print(n)\n",
        "    recursive_countdown(n-1)\n",
        "\n",
        "recursive_countdown(6)"
      ],
      "metadata": {
        "colab": {
          "base_uri": "https://localhost:8080/"
        },
        "id": "pVMXd_NzADMN",
        "outputId": "e7250c93-2ca9-48ad-9e8c-394431950477"
      },
      "execution_count": 2,
      "outputs": [
        {
          "output_type": "stream",
          "name": "stdout",
          "text": [
            "6\n",
            "5\n",
            "4\n",
            "3\n",
            "2\n",
            "1\n",
            "0\n"
          ]
        }
      ]
    },
    {
      "cell_type": "code",
      "source": [
        "# Recursive Function Example 2\n",
        "\n",
        "def summation(n):\n",
        "  s = 0\n",
        "  while n > 0:\n",
        "    s = n + s\n",
        "    n = n-1\n",
        "  print(s)\n",
        "\n",
        "summation(30)"
      ],
      "metadata": {
        "colab": {
          "base_uri": "https://localhost:8080/"
        },
        "id": "3VZMOf-yD7kO",
        "outputId": "938e485c-1c40-4424-9676-bc7b63f23c5a"
      },
      "execution_count": 10,
      "outputs": [
        {
          "output_type": "stream",
          "name": "stdout",
          "text": [
            "465\n"
          ]
        }
      ]
    },
    {
      "cell_type": "code",
      "source": [
        "def recursive_summation(n):\n",
        "  if n == 0:\n",
        "    return 0\n",
        "  else:\n",
        "    return n + recursive_summation(n-1)\n",
        "\n",
        "recursive_summation(5)"
      ],
      "metadata": {
        "colab": {
          "base_uri": "https://localhost:8080/"
        },
        "id": "TRmK4ZwVHxEF",
        "outputId": "8f4fc3da-f817-4acc-b907-4ce9d1edc825"
      },
      "execution_count": 11,
      "outputs": [
        {
          "output_type": "execute_result",
          "data": {
            "text/plain": [
              "15"
            ]
          },
          "metadata": {},
          "execution_count": 11
        }
      ]
    },
    {
      "cell_type": "code",
      "source": [
        "def recursive_factorial(n):\n",
        "  s = n\n",
        "  while n > 1:\n",
        "    n = n-1\n",
        "    s = s*n\n",
        "  return s\n",
        "\n",
        "recursive_factorial(5)"
      ],
      "metadata": {
        "colab": {
          "base_uri": "https://localhost:8080/"
        },
        "id": "vHfZ00jaI9PV",
        "outputId": "ca732d7f-c829-43fe-c298-f2fc703fe006"
      },
      "execution_count": 21,
      "outputs": [
        {
          "output_type": "execute_result",
          "data": {
            "text/plain": [
              "120"
            ]
          },
          "metadata": {},
          "execution_count": 21
        }
      ]
    },
    {
      "cell_type": "code",
      "source": [
        "# Create a function that flips the order of a string\n",
        "\n",
        "def string_flip(n):\n",
        "  if len(n) == 1:\n",
        "    return n\n",
        "  else:\n",
        "    return n[-1] + string_flip(n[:-1])\n",
        "\n",
        "\n",
        "user_inpt = input(\"lets flip this around: \")\n",
        "string_flip(user_inpt)"
      ],
      "metadata": {
        "colab": {
          "base_uri": "https://localhost:8080/",
          "height": 53
        },
        "id": "F_ryP_f0T3RY",
        "outputId": "afad10a1-3e3b-44ec-8393-c1260774d02a"
      },
      "execution_count": 6,
      "outputs": [
        {
          "name": "stdout",
          "output_type": "stream",
          "text": [
            "lets flip this around: hello\n"
          ]
        },
        {
          "output_type": "execute_result",
          "data": {
            "text/plain": [
              "'olleh'"
            ],
            "application/vnd.google.colaboratory.intrinsic+json": {
              "type": "string"
            }
          },
          "metadata": {},
          "execution_count": 6
        }
      ]
    }
  ]
}