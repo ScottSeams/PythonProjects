{
  "nbformat": 4,
  "nbformat_minor": 0,
  "metadata": {
    "colab": {
      "provenance": [],
      "authorship_tag": "ABX9TyMiMauPPYbJdqib+V9n9ffw",
      "include_colab_link": true
    },
    "kernelspec": {
      "name": "python3",
      "display_name": "Python 3"
    },
    "language_info": {
      "name": "python"
    }
  },
  "cells": [
    {
      "cell_type": "markdown",
      "metadata": {
        "id": "view-in-github",
        "colab_type": "text"
      },
      "source": [
        "<a href=\"https://colab.research.google.com/github/ScottSeams/PythonProjects/blob/main/Lists_(append%2C_extend%2C_pop).ipynb\" target=\"_parent\"><img src=\"https://colab.research.google.com/assets/colab-badge.svg\" alt=\"Open In Colab\"/></a>"
      ]
    },
    {
      "cell_type": "code",
      "execution_count": 7,
      "metadata": {
        "colab": {
          "base_uri": "https://localhost:8080/"
        },
        "id": "9jqBA8NR77wJ",
        "outputId": "964c2fe2-7581-4dfc-c8ef-b40ecb041794"
      },
      "outputs": [
        {
          "output_type": "execute_result",
          "data": {
            "text/plain": [
              "[<function print>, [5, 7, 9]]"
            ]
          },
          "metadata": {},
          "execution_count": 7
        }
      ],
      "source": [
        "L = [1, 'two', 3.0, print, [5, 7, 9]]\n",
        "L[3:]"
      ]
    },
    {
      "cell_type": "code",
      "source": [
        "L + ['three', 9.99, 0]"
      ],
      "metadata": {
        "colab": {
          "base_uri": "https://localhost:8080/"
        },
        "id": "eZnxEPTj-Rq1",
        "outputId": "f7fdf9eb-9f40-4095-c2b7-1b84b095ebf1"
      },
      "execution_count": 8,
      "outputs": [
        {
          "output_type": "execute_result",
          "data": {
            "text/plain": [
              "[1, 'two', 3.0, <function print>, [5, 7, 9], 'three', 9.99, 0]"
            ]
          },
          "metadata": {},
          "execution_count": 8
        }
      ]
    },
    {
      "cell_type": "code",
      "source": [
        "3 * L"
      ],
      "metadata": {
        "id": "MPix9v5y-2VE"
      },
      "execution_count": null,
      "outputs": []
    },
    {
      "cell_type": "code",
      "source": [
        "L[3] = 'b'\n",
        "L"
      ],
      "metadata": {
        "colab": {
          "base_uri": "https://localhost:8080/"
        },
        "id": "LjVqivz-AsVo",
        "outputId": "1fca320c-96f9-44b0-a8eb-189538bbe9c2"
      },
      "execution_count": 12,
      "outputs": [
        {
          "output_type": "execute_result",
          "data": {
            "text/plain": [
              "[1, 'two', 3.0, 'b', [5, 7, 9]]"
            ]
          },
          "metadata": {},
          "execution_count": 12
        }
      ]
    },
    {
      "cell_type": "code",
      "source": [
        "for element in L:\n",
        "  print(element)"
      ],
      "metadata": {
        "colab": {
          "base_uri": "https://localhost:8080/"
        },
        "id": "9IsmUGrRBGno",
        "outputId": "beb08397-0acc-400b-db50-c197bad556f7"
      },
      "execution_count": 19,
      "outputs": [
        {
          "output_type": "stream",
          "name": "stdout",
          "text": [
            "1\n",
            "two\n",
            "3.0\n",
            "b\n",
            "[5, 7, 9]\n"
          ]
        }
      ]
    },
    {
      "cell_type": "code",
      "source": [
        "R = L[4]\n",
        "R[2]"
      ],
      "metadata": {
        "id": "J2mVQhKHCKY7"
      },
      "execution_count": null,
      "outputs": []
    },
    {
      "cell_type": "code",
      "source": [
        "L_Out = [[1,2,3],[4,5,6]]\n",
        "l = L_Out[1]\n",
        "l[0] = 7\n",
        "L_Out"
      ],
      "metadata": {
        "colab": {
          "base_uri": "https://localhost:8080/"
        },
        "id": "S5LJV05UDwQJ",
        "outputId": "f03baa13-ead8-42fc-ded9-01283405bdb7"
      },
      "execution_count": 25,
      "outputs": [
        {
          "output_type": "execute_result",
          "data": {
            "text/plain": [
              "[[1, 2, 3], [7, 5, 6]]"
            ]
          },
          "metadata": {},
          "execution_count": 25
        }
      ]
    },
    {
      "cell_type": "code",
      "source": [
        "# Easier way to do the problem above\n",
        "L_Out = [[1,2,3],[4,5,6]]\n",
        "L_Out[1][0] = 7\n",
        "L_Out"
      ],
      "metadata": {
        "colab": {
          "base_uri": "https://localhost:8080/"
        },
        "id": "LLAwr84BFgJM",
        "outputId": "4b909a03-12dd-425f-be60-411f2e107fce"
      },
      "execution_count": 26,
      "outputs": [
        {
          "output_type": "execute_result",
          "data": {
            "text/plain": [
              "[[1, 2, 3], [7, 5, 6]]"
            ]
          },
          "metadata": {},
          "execution_count": 26
        }
      ]
    },
    {
      "cell_type": "code",
      "source": [
        "L = [1, 'two', 3.0, 'b', [5, 7, 9]]\n",
        "s = [2, 'twelve', 4]\n",
        "L.append(s)\n",
        "L"
      ],
      "metadata": {
        "colab": {
          "base_uri": "https://localhost:8080/"
        },
        "id": "jPJVzh8VHEaF",
        "outputId": "17019691-be90-4358-8fd3-d0a9abbc73dd"
      },
      "execution_count": 30,
      "outputs": [
        {
          "output_type": "execute_result",
          "data": {
            "text/plain": [
              "[1, 'two', 3.0, 'b', [5, 7, 9], [2, 'twelve', 4]]"
            ]
          },
          "metadata": {},
          "execution_count": 30
        }
      ]
    },
    {
      "cell_type": "code",
      "source": [
        "L = [1, 'two', 3.0, 'b', [5, 7, 9]]\n",
        "s = [2, 'twelve', 4]\n",
        "L.extend(s)\n",
        "L"
      ],
      "metadata": {
        "colab": {
          "base_uri": "https://localhost:8080/"
        },
        "id": "_62SISP-JKS9",
        "outputId": "c5e2660d-fdd0-45ad-9d43-cfc6ee166f3f"
      },
      "execution_count": 29,
      "outputs": [
        {
          "output_type": "execute_result",
          "data": {
            "text/plain": [
              "[1, 'two', 3.0, 'b', [5, 7, 9], 2, 'twelve', 4]"
            ]
          },
          "metadata": {},
          "execution_count": 29
        }
      ]
    },
    {
      "cell_type": "code",
      "source": [
        "# 'pop' gets rid of part of the list (same format as index)\n",
        "L.pop(3)\n",
        "L"
      ],
      "metadata": {
        "colab": {
          "base_uri": "https://localhost:8080/"
        },
        "id": "uwggBjoFJjJ6",
        "outputId": "8479b82f-8d1d-4a56-a592-2ce658d7a825"
      },
      "execution_count": 34,
      "outputs": [
        {
          "output_type": "execute_result",
          "data": {
            "text/plain": [
              "[1, 'two', 3.0, [5, 7, 9]]"
            ]
          },
          "metadata": {},
          "execution_count": 34
        }
      ]
    }
  ]
}