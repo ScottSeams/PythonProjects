{
  "nbformat": 4,
  "nbformat_minor": 0,
  "metadata": {
    "colab": {
      "provenance": [],
      "authorship_tag": "ABX9TyM7gazp0zKkBRtSQgm5y8uU",
      "include_colab_link": true
    },
    "kernelspec": {
      "name": "python3",
      "display_name": "Python 3"
    },
    "language_info": {
      "name": "python"
    }
  },
  "cells": [
    {
      "cell_type": "markdown",
      "metadata": {
        "id": "view-in-github",
        "colab_type": "text"
      },
      "source": [
        "<a href=\"https://colab.research.google.com/github/ScottSeams/PythonProjects/blob/main/Index_Practice.ipynb\" target=\"_parent\"><img src=\"https://colab.research.google.com/assets/colab-badge.svg\" alt=\"Open In Colab\"/></a>"
      ]
    },
    {
      "cell_type": "code",
      "execution_count": 14,
      "metadata": {
        "colab": {
          "base_uri": "https://localhost:8080/"
        },
        "id": "mace5h6kR9hH",
        "outputId": "aa1878cb-b436-4a4b-cab2-7483ced35db6"
      },
      "outputs": [
        {
          "output_type": "stream",
          "name": "stdout",
          "text": [
            "n\n",
            "i\n",
            "c\n",
            "e\n"
          ]
        }
      ],
      "source": [
        "s1 = 'qndigpcdeb'\n",
        "s2 = 'tnoiafcaea'\n",
        "\n",
        "for index in range(len(s1)):\n",
        "  if s1[index] in s2:\n",
        "    print(s1[index])"
      ]
    },
    {
      "cell_type": "code",
      "source": [
        "s1 = 'qndigpcdeb'\n",
        "s2 = 'tnoiafcaea'\n",
        "\n",
        "for char in s1:\n",
        "  if char in s2:\n",
        "    print(char)"
      ],
      "metadata": {
        "colab": {
          "base_uri": "https://localhost:8080/"
        },
        "id": "s5l8-BN-U-U8",
        "outputId": "0b8c6682-6601-4bea-e6ae-38b279e2cb98"
      },
      "execution_count": 15,
      "outputs": [
        {
          "output_type": "stream",
          "name": "stdout",
          "text": [
            "n\n",
            "i\n",
            "c\n",
            "e\n"
          ]
        }
      ]
    },
    {
      "cell_type": "code",
      "source": [
        "s = ''\n",
        "for i in range(5):\n",
        "  s = s + \"A\"\n",
        "  print(s)"
      ],
      "metadata": {
        "colab": {
          "base_uri": "https://localhost:8080/"
        },
        "id": "7AR0oG3CZaOw",
        "outputId": "9266e202-3f37-4f2e-fbd6-bb74d0f411e4"
      },
      "execution_count": 21,
      "outputs": [
        {
          "output_type": "stream",
          "name": "stdout",
          "text": [
            "A\n",
            "AA\n",
            "AAA\n",
            "AAAA\n",
            "AAAAA\n"
          ]
        }
      ]
    }
  ]
}